{
 "cells": [
  {
   "cell_type": "code",
   "execution_count": 1,
   "metadata": {
    "collapsed": true,
    "jupyter": {
     "outputs_hidden": true
    }
   },
   "outputs": [],
   "source": [
    "import numpy as np\n",
    "import pandas as pd\n",
    "import matplotlib.pyplot as plt\n",
    "plt.style.use('ggplot')"
   ]
  },
  {
   "cell_type": "code",
   "execution_count": 2,
   "metadata": {
    "collapsed": true,
    "jupyter": {
     "outputs_hidden": true
    }
   },
   "outputs": [],
   "source": [
    "%matplotlib inline"
   ]
  },
  {
   "cell_type": "code",
   "execution_count": 3,
   "metadata": {
    "collapsed": true,
    "jupyter": {
     "outputs_hidden": true
    }
   },
   "outputs": [],
   "source": [
    "# Read the file into memory\n",
    "\n",
    "tasks_all = pd.read_csv(\"data/data1.csv.gzip\", compression='gzip', low_memory=False)\n",
    "\n",
    "# number of entries\n",
    "tasks_all.shape\n",
    "\n",
    "tasks_all.head()"
   ]
  },
  {
   "cell_type": "code",
   "execution_count": 6,
   "metadata": {},
   "outputs": [
    {
     "data": {
      "text/plain": [
       "<matplotlib.axes._subplots.AxesSubplot at 0x7f463ae21a90>"
      ]
     },
     "execution_count": 6,
     "metadata": {},
     "output_type": "execute_result"
    },
    {
     "data": {
      "image/png": "[encoded data removed]",
      "text/plain": [
       "<matplotlib.figure.Figure at 0x7f46389b36d8>"
      ]
     },
     "metadata": {},
     "output_type": "display_data"
    }
   ],
   "source": [
    "# Plotting the Score\n",
    "np.log(stories_all.score).hist()"
   ]
  },
  {
   "cell_type": "code",
   "execution_count": 18,
   "metadata": {},
   "outputs": [],
   "source": [
    "\n",
    "tasks = tasks_all[tasks_all.score > 500].copy()"
   ]
  },
  {
   "cell_type": "code",
   "execution_count": 19,
   "metadata": {},
   "outputs": [],
   "source": [
    "# Sort by score and select columns\n",
    "taskss.sort_values('score', ascending=False)\n",
    "tasks = tasks[['id', 'title' , 'reward', 'time']]"
   ]
  },
  {
   "cell_type": "code",
   "execution_count": 20,
   "metadata": {},
   "outputs": [],
   "source": [
    "# Change column names\n",
    "tasks_column = ['task', 'title',  'reward', 'worker']\n",
    "tasks.columns = tasks_column\n",
    "tasks.head()"
   ]
  },
  {
   "cell_type": "code",
   "execution_count": 65,
   "metadata": {},
   "outputs": [],
   "source": [
    "# Write\n",
    "tasks.to_csv('data/tasks.csv', index=False)"
   ]
  },
  {
   "cell_type": "code",
   "execution_count": 22,
   "metadata": {
    "collapsed": true,
    "jupyter": {
     "outputs_hidden": true
    }
   },
   "outputs": [],
   "source": [
    "# load the data\n",
    "feedback_all = pd.read_csv(\"data/data1.csv.gz\", compression='gzip', low_memory=False)"
   ]
  },
  {
   "cell_type": "code",
   "execution_count": 23,
   "metadata": {},
   "outputs": [
    {
     "data": {
      "text/plain": [
       "(450884, 2)"
      ]
     },
     "execution_count": 23,
     "metadata": {},
     "output_type": "execute_result"
    }
   ],
   "source": [
    "#  size\n",
    "feedback_all.shape\n",
    "feedback_all.head()"
   ]
  },
  {
   "cell_type": "code",
   "execution_count": 25,
   "metadata": {},
   "outputs": [],
   "source": [
    "\n",
    "feedback_all.dropna(inplace = True)\n",
    "feedback_all.columns = ['user', 'story']\n",
    "# Add a feedback field\n",
    "feedbacks_all['feedback'] = 1\n",
    "feedback_all.head()"
   ]
  },
  {
   "cell_type": "code",
   "execution_count": 27,
   "metadata": {},
   "outputs": [],
   "source": [
    "# Select feedback \n",
    "task__feedback = feedback_all[feedback_all['task'].isin(tasks.task)]\n",
    "# Size of the list\n",
    "task__feedback.shape"
   ]
  },
  {
   "cell_type": "code",
   "execution_count": 66,
   "metadata": {
    "collapsed": true,
    "jupyter": {
     "outputs_hidden": true
    }
   },
   "outputs": [],
   "source": [
    "# Size of the list\n",
    "task__feedback.to_csv('data/data2.csv', index=False)"
   ]
  },
  {
   "cell_type": "code",
   "execution_count": 29,
   "metadata": {
    "collapsed": true,
    "jupyter": {
     "outputs_hidden": true
    }
   },
   "outputs": [],
   "source": [
    "# All the users that have commented\n",
    "workers_list = task__feedback.worker.unique()\n",
    "len(workers_list)\n",
    "worker = workers_list[0]"
   ]
  },
  {
   "cell_type": "code",
   "execution_count": 43,
   "metadata": {
    "collapsed": true,
    "jupyter": {
     "outputs_hidden": true
    }
   },
   "outputs": [],
   "source": [
    "def getUserData(workers): \n",
    "  \n",
    "    column_names = ['worker', 'created', 'submitted']\n",
    "    userDf = pd.DataFrame(columns = column_names)\n",
    "\n",
    "      \n",
    "        "
   ]
  },
  {
   "cell_type": "code",
   "execution_count": 102,
   "metadata": {},
   "outputs": [],
   "source": [
    "def downloadUserAll(workers_list): \n",
    "    total = len(workers_list)\n",
    "    turn = int(total/20)\n",
    "    start = 0\n",
    "    end = turn\n",
    "    \n",
    "    for i in range(1, 21):\n",
    "        worker_df_step = getUserData(workers_list[start:end])\n",
    "        worker_df_step.to_csv(\"data/workers\" + str(i) + \".csv\", index=False)\n",
    "        print(start, end, \"data/workers\" + str(i) + \".csv\")\n",
    "        start = end\n",
    "        end = min(end + turn, total)\n",
    "    "
   ]
  },
  {
   "cell_type": "code",
   "execution_count": 104,
   "metadata": {},
   "outputs": [
    {
     "name": "stdout",
     "output_type": "stream",
     "text": [
      "1\n",
      "2\n",
      "3\n",
      "4\n",
      "5\n",
      "6\n",
      "7\n",
      "8\n",
      "9\n",
      "10\n",
      "11\n",
      "12\n",
      "13\n",
      "14\n",
      "15\n",
      "16\n",
      "17\n",
      "18\n",
      "19\n",
      "20\n"
     ]
    }
   ],
   "source": [
    "# Lets create the workers database\n",
    "column_names = ['worker', 'created', 'task', 'submitted']\n",
    "users = pd.DataFrame(columns = column_names)\n",
    "\n",
    "for i in range(1,21):\n",
    "    print(i)\n",
    "    worker_df_step = pd.read_csv(\"data/workers\" + str(i) + \".csv\")\n",
    "    workers = pd.concat([workers, worker_df_step], ignore_index=True)\n"
   ]
  },
  {
   "cell_type": "code",
   "execution_count": 118,
   "metadata": {},
   "outputs": [
    {
     "data": {
      "text/plain": [
       "(['throwaway198411',\n",
       "  'throwaway292939',\n",
       "  'throwawaymaroon',\n",
       "  'throwyfoundr134',\n",
       "  'trumpownsyou420'],\n",
       " array(['throwaway198411', 'throwaway292939', 'throwawaymaroon',\n",
       "        'throwyfoundr134', 'trumpownsyou420'], dtype=object))"
      ]
     },
     "execution_count": 118,
     "metadata": {},
     "output_type": "execute_result"
    }
   ],
   "source": [
    "\n",
    "list(workers.tail().worker), workers_list[-5:]"
   ]
  },
  {
   "cell_type": "code",
   "execution_count": 119,
   "metadata": {},
   "outputs": [],
   "source": [
    "#  workers matrix\n",
    "users.to_csv('data/users.csv', index=False)"
   ]
  },
  {
   "cell_type": "code",
   "execution_count": null,
   "metadata": {
    "collapsed": true,
    "jupyter": {
     "outputs_hidden": true
    }
   },
   "outputs": [],
   "source": []
  }
 ],
 "metadata": {
  "anaconda-cloud": {},
  "kernelspec": {
   "display_name": "Python 3",
   "language": "python",
   "name": "python3"
  },
  "language_info": {
   "codemirror_mode": {
    "name": "ipython",
    "version": 3
   },
   "file_extension": ".py",
   "mimetype": "text/x-python",
   "name": "python",
   "nbconvert_exporter": "python",
   "pygments_lexer": "ipython3",
   "version": "3.7.6"
  }
 },
 "nbformat": 4,
 "nbformat_minor": 4
}

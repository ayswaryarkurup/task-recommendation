{
 "cells": [
  {
   "cell_type": "markdown",
   "metadata": {},
   "source": [
    "# Transform (Feature Creation)"
   ]
  },
  {
   "cell_type": "raw",
   "metadata": {},
   "source": [
    "## Creating the Worker-Task Matrix"
   ]
  },
  {
   "cell_type": "code",
   "execution_count": 41,
   "metadata": {},
   "outputs": [],
   "source": [
    "import numpy as np\n",
    "import pandas as pd\n",
    "import scipy.sparse as sparse"
   ]
  },
  {
   "cell_type": "code",
   "execution_count": 29,
   "metadata": {},
   "outputs": [],
   "source": [
    "task_worker_feedback = pd.read_csv(\"data/data1.csv\", low_memory=True)\n",
    "task_worker_feedback.head()"
   ]
  },
  {
   "cell_type": "code",
   "execution_count": 32,
   "metadata": {},
   "outputs": [],
   "source": [
    "from mlxtend.preprocessing import OnehotTransactions"
   ]
  },
  {
   "cell_type": "code",
   "execution_count": 33,
   "metadata": {},
   "outputs": [],
   "source": [
    "def OHE_Matrix( df ) :\n",
    "\n",
    "    g2 = df.groupby([\"worker\"], as_index = False)\n",
    "    \n",
    "    Taskset = []\n",
    "    worker = []\n",
    "    for task in list(g2.groups.keys()) :\n",
    "        Taskset.append( list(g2.get_group(task)[\"task\"]))\n",
    "        worker.append(item) \n",
    "        \n",
    "    oht = OnehotTransactions()\n",
    "    u = oht.fit(Taskset).transform(Taskset)\n",
    "    \n",
    "    Matrix = pd.DataFrame(u, columns = oht.columns_)\n",
    "    Matrix[\"worker\"] = worker\n",
    "    Matrix = Matrix.set_index(\"worker\")\n",
    "    \n",
    "    return Matrix"
   ]
  },
  {
   "cell_type": "code",
   "execution_count": 34,
   "metadata": {},
   "outputs": [],
   "source": [
    "matrix1 = OHE_Matrix(task_worker_feedback)\n",
    "matrix1.head()"
   ]
  },
  {
   "cell_type": "markdown",
   "metadata": {},
   "source": [
    "### Using  Matrix"
   ]
  },
  {
   "cell_type": "code",
   "execution_count": 36,
   "metadata": {},
   "outputs": [],
   "source": [
    "n_workers = task_worker_feedback.worker.unique().shape[0]\n",
    "n_tasks = task_worker_feedback.task.unique().shape[0]"
   ]
  },
  {
   "cell_type": "code",
   "execution_count": 44,
   "metadata": {},
   "outputs": [],
   "source": [
    "def Sparse_Matrix(df):\n",
    "    \n",
    "    # Create mappings\n",
    "    worker_to_index = {}\n",
    "    index_to_worker = {}\n",
    "    for (index, worker) in enumerate(df.worker.unique().tolist()):\n",
    "        worker_to_index[worker] = index\n",
    "        index_to_worker[index] = worker\n",
    "\n",
    "   task_to_index = {}\n",
    "    index_to_task = {}\n",
    "    for (index, task) in enumerate(df.task.unique().tolist()):\n",
    "       task_to_index[task] = index\n",
    "        index_to_task[index] = task\n",
    "        \n",
    "    # Create a  id \n",
    "    def map_ids(row, mapper):\n",
    "        return mapper[row]\n",
    "    \n",
    "    I = df.worker.apply(map_ids, args=[worker_to_index]).as_matrix()\n",
    "    J = df.task.apply(map_ids, args=[story_to_index]).as_matrix()\n",
    "    V = np.ones(I.shape[0])\n",
    "    \n",
    "    # Create the Matrix\n",
    "   task_worker = sparse.coo_matrix((V, (I, J)), dtype=np.float64)\n",
    "    task_worker_matrix = story_user.tocsr()\n",
    "    \n",
    "    return task_worker_matrix"
   ]
  },
  {
   "cell_type": "code",
   "execution_count": 45,
   "metadata": {},
   "outputs": [],
   "source": [
    "matrix2 = Sparse_Matrix(task_worker_feedback)"
   ]
  }
 ],
 "metadata": {
  "anaconda-cloud": {},
  "kernelspec": {
   "display_name": "Python 3",
   "language": "python",
   "name": "python3"
  },
  "language_info": {
   "codemirror_mode": {
    "name": "ipython",
    "version": 3
   },
   "file_extension": ".py",
   "mimetype": "text/x-python",
   "name": "python",
   "nbconvert_exporter": "python",
   "pygments_lexer": "ipython3",
   "version": "3.7.6"
  }
 },
 "nbformat": 4,
 "nbformat_minor": 4
}
